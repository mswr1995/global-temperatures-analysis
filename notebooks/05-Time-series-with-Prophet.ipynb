{
 "cells": [
  {
   "cell_type": "markdown",
   "id": "8b776618",
   "metadata": {},
   "source": [
    "## We’ll build a Prophet model to forecast global or country-specific temperatures for the next few years."
   ]
  },
  {
   "cell_type": "code",
   "execution_count": 44,
   "id": "39a595f2",
   "metadata": {},
   "outputs": [
    {
     "name": "stdout",
     "output_type": "stream",
     "text": [
      "Defaulting to user installation because normal site-packages is not writeable\n",
      "Requirement already satisfied: prophet in c:\\users\\musav\\appdata\\roaming\\python\\python310\\site-packages (1.1.6)\n",
      "Requirement already satisfied: numpy>=1.15.4 in c:\\programdata\\anaconda3\\lib\\site-packages (from prophet) (1.23.5)\n",
      "Requirement already satisfied: cmdstanpy>=1.0.4 in c:\\users\\musav\\appdata\\roaming\\python\\python310\\site-packages (from prophet) (1.2.4)\n",
      "Requirement already satisfied: tqdm>=4.36.1 in c:\\programdata\\anaconda3\\lib\\site-packages (from prophet) (4.64.1)\n",
      "Requirement already satisfied: matplotlib>=2.0.0 in c:\\programdata\\anaconda3\\lib\\site-packages (from prophet) (3.7.0)\n",
      "Requirement already satisfied: pandas>=1.0.4 in c:\\programdata\\anaconda3\\lib\\site-packages (from prophet) (1.5.3)\n",
      "Requirement already satisfied: importlib-resources in c:\\users\\musav\\appdata\\roaming\\python\\python310\\site-packages (from prophet) (6.4.5)\n",
      "Requirement already satisfied: holidays<1,>=0.25 in c:\\users\\musav\\appdata\\roaming\\python\\python310\\site-packages (from prophet) (0.60)\n",
      "Requirement already satisfied: stanio<2.0.0,>=0.4.0 in c:\\users\\musav\\appdata\\roaming\\python\\python310\\site-packages (from cmdstanpy>=1.0.4->prophet) (0.5.1)\n",
      "Requirement already satisfied: python-dateutil in c:\\programdata\\anaconda3\\lib\\site-packages (from holidays<1,>=0.25->prophet) (2.8.2)\n",
      "Requirement already satisfied: kiwisolver>=1.0.1 in c:\\programdata\\anaconda3\\lib\\site-packages (from matplotlib>=2.0.0->prophet) (1.4.4)\n",
      "Requirement already satisfied: pyparsing>=2.3.1 in c:\\programdata\\anaconda3\\lib\\site-packages (from matplotlib>=2.0.0->prophet) (3.0.9)\n",
      "Requirement already satisfied: packaging>=20.0 in c:\\programdata\\anaconda3\\lib\\site-packages (from matplotlib>=2.0.0->prophet) (22.0)\n",
      "Requirement already satisfied: cycler>=0.10 in c:\\programdata\\anaconda3\\lib\\site-packages (from matplotlib>=2.0.0->prophet) (0.11.0)\n",
      "Requirement already satisfied: contourpy>=1.0.1 in c:\\programdata\\anaconda3\\lib\\site-packages (from matplotlib>=2.0.0->prophet) (1.0.5)\n",
      "Requirement already satisfied: pillow>=6.2.0 in c:\\programdata\\anaconda3\\lib\\site-packages (from matplotlib>=2.0.0->prophet) (9.4.0)\n",
      "Requirement already satisfied: fonttools>=4.22.0 in c:\\programdata\\anaconda3\\lib\\site-packages (from matplotlib>=2.0.0->prophet) (4.25.0)\n",
      "Requirement already satisfied: pytz>=2020.1 in c:\\programdata\\anaconda3\\lib\\site-packages (from pandas>=1.0.4->prophet) (2022.7)\n",
      "Requirement already satisfied: colorama in c:\\programdata\\anaconda3\\lib\\site-packages (from tqdm>=4.36.1->prophet) (0.4.6)\n",
      "Requirement already satisfied: six>=1.5 in c:\\programdata\\anaconda3\\lib\\site-packages (from python-dateutil->holidays<1,>=0.25->prophet) (1.16.0)\n"
     ]
    }
   ],
   "source": [
    "!pip install prophet"
   ]
  },
  {
   "cell_type": "code",
   "execution_count": 1,
   "id": "8a90f5b0",
   "metadata": {},
   "outputs": [],
   "source": [
    "from prophet import Prophet\n",
    "import pandas as pd\n",
    "import numpy as np\n",
    "import matplotlib.pyplot as plt\n",
    "from sklearn.metrics import mean_squared_error, mean_absolute_error"
   ]
  },
  {
   "cell_type": "markdown",
   "id": "762319a6",
   "metadata": {},
   "source": [
    "### Load the data"
   ]
  },
  {
   "cell_type": "code",
   "execution_count": 2,
   "id": "e307dd0a",
   "metadata": {},
   "outputs": [],
   "source": [
    "df = pd.read_csv('../data/cleaned-GlobalLandTemperatures.csv')"
   ]
  },
  {
   "cell_type": "markdown",
   "id": "cee7c026",
   "metadata": {},
   "source": [
    "### Convert the dt column to datetime"
   ]
  },
  {
   "cell_type": "code",
   "execution_count": 3,
   "id": "c95bc00d",
   "metadata": {},
   "outputs": [],
   "source": [
    "df['dt'] = pd.to_datetime(df['dt'])"
   ]
  },
  {
   "cell_type": "markdown",
   "id": "019070ec",
   "metadata": {},
   "source": [
    "### Split the data into train and test"
   ]
  },
  {
   "cell_type": "code",
   "execution_count": 8,
   "id": "ecc29213",
   "metadata": {},
   "outputs": [
    {
     "data": {
      "text/html": [
       "<div>\n",
       "<style scoped>\n",
       "    .dataframe tbody tr th:only-of-type {\n",
       "        vertical-align: middle;\n",
       "    }\n",
       "\n",
       "    .dataframe tbody tr th {\n",
       "        vertical-align: top;\n",
       "    }\n",
       "\n",
       "    .dataframe thead th {\n",
       "        text-align: right;\n",
       "    }\n",
       "</style>\n",
       "<table border=\"1\" class=\"dataframe\">\n",
       "  <thead>\n",
       "    <tr style=\"text-align: right;\">\n",
       "      <th></th>\n",
       "      <th>dt</th>\n",
       "      <th>AverageTemperature</th>\n",
       "      <th>AverageTemperatureUncertainty</th>\n",
       "      <th>Country</th>\n",
       "    </tr>\n",
       "  </thead>\n",
       "  <tbody>\n",
       "    <tr>\n",
       "      <th>0</th>\n",
       "      <td>1743-11-01</td>\n",
       "      <td>4.384</td>\n",
       "      <td>2.294</td>\n",
       "      <td>Åland</td>\n",
       "    </tr>\n",
       "    <tr>\n",
       "      <th>1</th>\n",
       "      <td>1744-04-01</td>\n",
       "      <td>1.530</td>\n",
       "      <td>4.680</td>\n",
       "      <td>Åland</td>\n",
       "    </tr>\n",
       "    <tr>\n",
       "      <th>2</th>\n",
       "      <td>1744-05-01</td>\n",
       "      <td>6.702</td>\n",
       "      <td>1.789</td>\n",
       "      <td>Åland</td>\n",
       "    </tr>\n",
       "    <tr>\n",
       "      <th>3</th>\n",
       "      <td>1744-06-01</td>\n",
       "      <td>11.609</td>\n",
       "      <td>1.577</td>\n",
       "      <td>Åland</td>\n",
       "    </tr>\n",
       "    <tr>\n",
       "      <th>4</th>\n",
       "      <td>1744-07-01</td>\n",
       "      <td>15.342</td>\n",
       "      <td>1.410</td>\n",
       "      <td>Åland</td>\n",
       "    </tr>\n",
       "    <tr>\n",
       "      <th>...</th>\n",
       "      <td>...</td>\n",
       "      <td>...</td>\n",
       "      <td>...</td>\n",
       "      <td>...</td>\n",
       "    </tr>\n",
       "    <tr>\n",
       "      <th>435843</th>\n",
       "      <td>1874-01-01</td>\n",
       "      <td>-3.265</td>\n",
       "      <td>1.736</td>\n",
       "      <td>Serbia</td>\n",
       "    </tr>\n",
       "    <tr>\n",
       "      <th>435844</th>\n",
       "      <td>1874-02-01</td>\n",
       "      <td>-1.752</td>\n",
       "      <td>0.676</td>\n",
       "      <td>Serbia</td>\n",
       "    </tr>\n",
       "    <tr>\n",
       "      <th>435845</th>\n",
       "      <td>1874-03-01</td>\n",
       "      <td>1.757</td>\n",
       "      <td>1.281</td>\n",
       "      <td>Serbia</td>\n",
       "    </tr>\n",
       "    <tr>\n",
       "      <th>435846</th>\n",
       "      <td>1874-04-01</td>\n",
       "      <td>10.931</td>\n",
       "      <td>0.563</td>\n",
       "      <td>Serbia</td>\n",
       "    </tr>\n",
       "    <tr>\n",
       "      <th>435847</th>\n",
       "      <td>1874-05-01</td>\n",
       "      <td>11.684</td>\n",
       "      <td>0.727</td>\n",
       "      <td>Serbia</td>\n",
       "    </tr>\n",
       "  </tbody>\n",
       "</table>\n",
       "<p>435848 rows × 4 columns</p>\n",
       "</div>"
      ],
      "text/plain": [
       "               dt  AverageTemperature  AverageTemperatureUncertainty Country\n",
       "0      1743-11-01               4.384                          2.294   Åland\n",
       "1      1744-04-01               1.530                          4.680   Åland\n",
       "2      1744-05-01               6.702                          1.789   Åland\n",
       "3      1744-06-01              11.609                          1.577   Åland\n",
       "4      1744-07-01              15.342                          1.410   Åland\n",
       "...           ...                 ...                            ...     ...\n",
       "435843 1874-01-01              -3.265                          1.736  Serbia\n",
       "435844 1874-02-01              -1.752                          0.676  Serbia\n",
       "435845 1874-03-01               1.757                          1.281  Serbia\n",
       "435846 1874-04-01              10.931                          0.563  Serbia\n",
       "435847 1874-05-01              11.684                          0.727  Serbia\n",
       "\n",
       "[435848 rows x 4 columns]"
      ]
     },
     "execution_count": 8,
     "metadata": {},
     "output_type": "execute_result"
    }
   ],
   "source": [
    "train_size = int(len(df) * 0.8)\n",
    "train = df[:train_size]\n",
    "test = df[train_size:]\n",
    "\n",
    "train"
   ]
  },
  {
   "cell_type": "markdown",
   "id": "43f2b685",
   "metadata": {},
   "source": [
    "### Prepare the data for Prophet (prophet expects columns named 'ds', 'y')"
   ]
  },
  {
   "cell_type": "code",
   "execution_count": 5,
   "id": "6acaa80c",
   "metadata": {},
   "outputs": [],
   "source": [
    "train_prophet = train.rename(columns = {'dt': 'ds', 'AverageTemperature': 'y'})\n",
    "test_prophet = test.rename(columns = {'dt': 'ds', \"AverageTemperature\": 'y'})"
   ]
  },
  {
   "cell_type": "markdown",
   "id": "581b89ce",
   "metadata": {},
   "source": [
    "### Fit the model on the training data"
   ]
  },
  {
   "cell_type": "code",
   "execution_count": 6,
   "id": "ab5948ab",
   "metadata": {},
   "outputs": [
    {
     "name": "stderr",
     "output_type": "stream",
     "text": [
      "13:54:24 - cmdstanpy - INFO - Chain [1] start processing\n",
      "13:57:37 - cmdstanpy - INFO - Chain [1] done processing\n"
     ]
    },
    {
     "data": {
      "text/plain": [
       "<prophet.forecaster.Prophet at 0x22585203850>"
      ]
     },
     "execution_count": 6,
     "metadata": {},
     "output_type": "execute_result"
    }
   ],
   "source": [
    "model_prophet = Prophet(yearly_seasonality = True)\n",
    "model_prophet.fit(train_prophet)"
   ]
  },
  {
   "cell_type": "markdown",
   "id": "cd624e47",
   "metadata": {},
   "source": [
    "### Make the predictions for the same test period"
   ]
  },
  {
   "cell_type": "code",
   "execution_count": 7,
   "id": "03480135",
   "metadata": {},
   "outputs": [
    {
     "ename": "ValueError",
     "evalue": "year 11093 is out of range",
     "output_type": "error",
     "traceback": [
      "\u001b[1;31m---------------------------------------------------------------------------\u001b[0m",
      "\u001b[1;31mValueError\u001b[0m                                Traceback (most recent call last)",
      "Cell \u001b[1;32mIn[7], line 1\u001b[0m\n\u001b[1;32m----> 1\u001b[0m future_prophet \u001b[38;5;241m=\u001b[39m \u001b[43mmodel_prophet\u001b[49m\u001b[38;5;241;43m.\u001b[39;49m\u001b[43mmake_future_dataframe\u001b[49m\u001b[43m(\u001b[49m\u001b[43mperiods\u001b[49m\u001b[43m \u001b[49m\u001b[38;5;241;43m=\u001b[39;49m\u001b[43m \u001b[49m\u001b[38;5;28;43mlen\u001b[39;49m\u001b[43m(\u001b[49m\u001b[43mtest\u001b[49m\u001b[43m)\u001b[49m\u001b[43m,\u001b[49m\u001b[43m \u001b[49m\u001b[43mfreq\u001b[49m\u001b[43m \u001b[49m\u001b[38;5;241;43m=\u001b[39;49m\u001b[43m \u001b[49m\u001b[38;5;124;43m'\u001b[39;49m\u001b[38;5;124;43mM\u001b[39;49m\u001b[38;5;124;43m'\u001b[39;49m\u001b[43m)\u001b[49m\n\u001b[0;32m      2\u001b[0m forecast_prophet \u001b[38;5;241m=\u001b[39m model_prophet\u001b[38;5;241m.\u001b[39mpredict(future_prophet)\n",
      "File \u001b[1;32m~\\AppData\\Roaming\\Python\\Python310\\site-packages\\prophet\\forecaster.py:1854\u001b[0m, in \u001b[0;36mProphet.make_future_dataframe\u001b[1;34m(self, periods, freq, include_history)\u001b[0m\n\u001b[0;32m   1852\u001b[0m         \u001b[38;5;28;01mraise\u001b[39;00m \u001b[38;5;167;01mException\u001b[39;00m(\u001b[38;5;124m'\u001b[39m\u001b[38;5;124mUnable to infer `freq`\u001b[39m\u001b[38;5;124m'\u001b[39m)\n\u001b[0;32m   1853\u001b[0m last_date \u001b[38;5;241m=\u001b[39m \u001b[38;5;28mself\u001b[39m\u001b[38;5;241m.\u001b[39mhistory_dates\u001b[38;5;241m.\u001b[39mmax()\n\u001b[1;32m-> 1854\u001b[0m dates \u001b[38;5;241m=\u001b[39m \u001b[43mpd\u001b[49m\u001b[38;5;241;43m.\u001b[39;49m\u001b[43mdate_range\u001b[49m\u001b[43m(\u001b[49m\n\u001b[0;32m   1855\u001b[0m \u001b[43m    \u001b[49m\u001b[43mstart\u001b[49m\u001b[38;5;241;43m=\u001b[39;49m\u001b[43mlast_date\u001b[49m\u001b[43m,\u001b[49m\n\u001b[0;32m   1856\u001b[0m \u001b[43m    \u001b[49m\u001b[43mperiods\u001b[49m\u001b[38;5;241;43m=\u001b[39;49m\u001b[43mperiods\u001b[49m\u001b[43m \u001b[49m\u001b[38;5;241;43m+\u001b[39;49m\u001b[43m \u001b[49m\u001b[38;5;241;43m1\u001b[39;49m\u001b[43m,\u001b[49m\u001b[43m  \u001b[49m\u001b[38;5;66;43;03m# An extra in case we include start\u001b[39;49;00m\n\u001b[0;32m   1857\u001b[0m \u001b[43m    \u001b[49m\u001b[43mfreq\u001b[49m\u001b[38;5;241;43m=\u001b[39;49m\u001b[43mfreq\u001b[49m\u001b[43m)\u001b[49m\n\u001b[0;32m   1858\u001b[0m dates \u001b[38;5;241m=\u001b[39m dates[dates \u001b[38;5;241m>\u001b[39m last_date]  \u001b[38;5;66;03m# Drop start if equals last_date\u001b[39;00m\n\u001b[0;32m   1859\u001b[0m dates \u001b[38;5;241m=\u001b[39m dates[:periods]  \u001b[38;5;66;03m# Return correct number of periods\u001b[39;00m\n",
      "File \u001b[1;32mC:\\ProgramData\\anaconda3\\lib\\site-packages\\pandas\\core\\indexes\\datetimes.py:1125\u001b[0m, in \u001b[0;36mdate_range\u001b[1;34m(start, end, periods, freq, tz, normalize, name, closed, inclusive, **kwargs)\u001b[0m\n\u001b[0;32m   1122\u001b[0m \u001b[38;5;28;01mif\u001b[39;00m freq \u001b[38;5;129;01mis\u001b[39;00m \u001b[38;5;28;01mNone\u001b[39;00m \u001b[38;5;129;01mand\u001b[39;00m com\u001b[38;5;241m.\u001b[39many_none(periods, start, end):\n\u001b[0;32m   1123\u001b[0m     freq \u001b[38;5;241m=\u001b[39m \u001b[38;5;124m\"\u001b[39m\u001b[38;5;124mD\u001b[39m\u001b[38;5;124m\"\u001b[39m\n\u001b[1;32m-> 1125\u001b[0m dtarr \u001b[38;5;241m=\u001b[39m DatetimeArray\u001b[38;5;241m.\u001b[39m_generate_range(\n\u001b[0;32m   1126\u001b[0m     start\u001b[38;5;241m=\u001b[39mstart,\n\u001b[0;32m   1127\u001b[0m     end\u001b[38;5;241m=\u001b[39mend,\n\u001b[0;32m   1128\u001b[0m     periods\u001b[38;5;241m=\u001b[39mperiods,\n\u001b[0;32m   1129\u001b[0m     freq\u001b[38;5;241m=\u001b[39mfreq,\n\u001b[0;32m   1130\u001b[0m     tz\u001b[38;5;241m=\u001b[39mtz,\n\u001b[0;32m   1131\u001b[0m     normalize\u001b[38;5;241m=\u001b[39mnormalize,\n\u001b[0;32m   1132\u001b[0m     inclusive\u001b[38;5;241m=\u001b[39minclusive,\n\u001b[0;32m   1133\u001b[0m     \u001b[38;5;241m*\u001b[39m\u001b[38;5;241m*\u001b[39mkwargs,\n\u001b[0;32m   1134\u001b[0m )\n\u001b[0;32m   1135\u001b[0m \u001b[38;5;28;01mreturn\u001b[39;00m DatetimeIndex\u001b[38;5;241m.\u001b[39m_simple_new(dtarr, name\u001b[38;5;241m=\u001b[39mname)\n",
      "File \u001b[1;32mC:\\ProgramData\\anaconda3\\lib\\site-packages\\pandas\\core\\arrays\\datetimes.py:397\u001b[0m, in \u001b[0;36mDatetimeArray._generate_range\u001b[1;34m(cls, start, end, periods, freq, tz, normalize, ambiguous, nonexistent, inclusive)\u001b[0m\n\u001b[0;32m    395\u001b[0m \u001b[38;5;28;01melse\u001b[39;00m:\n\u001b[0;32m    396\u001b[0m     xdr \u001b[38;5;241m=\u001b[39m generate_range(start\u001b[38;5;241m=\u001b[39mstart, end\u001b[38;5;241m=\u001b[39mend, periods\u001b[38;5;241m=\u001b[39mperiods, offset\u001b[38;5;241m=\u001b[39mfreq)\n\u001b[1;32m--> 397\u001b[0m     i8values \u001b[38;5;241m=\u001b[39m np\u001b[38;5;241m.\u001b[39marray([x\u001b[38;5;241m.\u001b[39mvalue \u001b[38;5;28;01mfor\u001b[39;00m x \u001b[38;5;129;01min\u001b[39;00m xdr], dtype\u001b[38;5;241m=\u001b[39mnp\u001b[38;5;241m.\u001b[39mint64)\n\u001b[0;32m    399\u001b[0m endpoint_tz \u001b[38;5;241m=\u001b[39m start\u001b[38;5;241m.\u001b[39mtz \u001b[38;5;28;01mif\u001b[39;00m start \u001b[38;5;129;01mis\u001b[39;00m \u001b[38;5;129;01mnot\u001b[39;00m \u001b[38;5;28;01mNone\u001b[39;00m \u001b[38;5;28;01melse\u001b[39;00m end\u001b[38;5;241m.\u001b[39mtz\n\u001b[0;32m    401\u001b[0m \u001b[38;5;28;01mif\u001b[39;00m tz \u001b[38;5;129;01mis\u001b[39;00m \u001b[38;5;129;01mnot\u001b[39;00m \u001b[38;5;28;01mNone\u001b[39;00m \u001b[38;5;129;01mand\u001b[39;00m endpoint_tz \u001b[38;5;129;01mis\u001b[39;00m \u001b[38;5;28;01mNone\u001b[39;00m:\n",
      "File \u001b[1;32mC:\\ProgramData\\anaconda3\\lib\\site-packages\\pandas\\core\\arrays\\datetimes.py:397\u001b[0m, in \u001b[0;36m<listcomp>\u001b[1;34m(.0)\u001b[0m\n\u001b[0;32m    395\u001b[0m \u001b[38;5;28;01melse\u001b[39;00m:\n\u001b[0;32m    396\u001b[0m     xdr \u001b[38;5;241m=\u001b[39m generate_range(start\u001b[38;5;241m=\u001b[39mstart, end\u001b[38;5;241m=\u001b[39mend, periods\u001b[38;5;241m=\u001b[39mperiods, offset\u001b[38;5;241m=\u001b[39mfreq)\n\u001b[1;32m--> 397\u001b[0m     i8values \u001b[38;5;241m=\u001b[39m np\u001b[38;5;241m.\u001b[39marray([x\u001b[38;5;241m.\u001b[39mvalue \u001b[38;5;28;01mfor\u001b[39;00m x \u001b[38;5;129;01min\u001b[39;00m xdr], dtype\u001b[38;5;241m=\u001b[39mnp\u001b[38;5;241m.\u001b[39mint64)\n\u001b[0;32m    399\u001b[0m endpoint_tz \u001b[38;5;241m=\u001b[39m start\u001b[38;5;241m.\u001b[39mtz \u001b[38;5;28;01mif\u001b[39;00m start \u001b[38;5;129;01mis\u001b[39;00m \u001b[38;5;129;01mnot\u001b[39;00m \u001b[38;5;28;01mNone\u001b[39;00m \u001b[38;5;28;01melse\u001b[39;00m end\u001b[38;5;241m.\u001b[39mtz\n\u001b[0;32m    401\u001b[0m \u001b[38;5;28;01mif\u001b[39;00m tz \u001b[38;5;129;01mis\u001b[39;00m \u001b[38;5;129;01mnot\u001b[39;00m \u001b[38;5;28;01mNone\u001b[39;00m \u001b[38;5;129;01mand\u001b[39;00m endpoint_tz \u001b[38;5;129;01mis\u001b[39;00m \u001b[38;5;28;01mNone\u001b[39;00m:\n",
      "File \u001b[1;32mC:\\ProgramData\\anaconda3\\lib\\site-packages\\pandas\\core\\arrays\\datetimes.py:2553\u001b[0m, in \u001b[0;36mgenerate_range\u001b[1;34m(start, end, periods, offset)\u001b[0m\n\u001b[0;32m   2550\u001b[0m     periods \u001b[38;5;241m=\u001b[39m \u001b[38;5;241m0\u001b[39m\n\u001b[0;32m   2552\u001b[0m \u001b[38;5;28;01mif\u001b[39;00m end \u001b[38;5;129;01mis\u001b[39;00m \u001b[38;5;28;01mNone\u001b[39;00m:\n\u001b[1;32m-> 2553\u001b[0m     end \u001b[38;5;241m=\u001b[39m \u001b[43mstart\u001b[49m\u001b[43m \u001b[49m\u001b[38;5;241;43m+\u001b[39;49m\u001b[43m \u001b[49m\u001b[43m(\u001b[49m\u001b[43mperiods\u001b[49m\u001b[43m \u001b[49m\u001b[38;5;241;43m-\u001b[39;49m\u001b[43m \u001b[49m\u001b[38;5;241;43m1\u001b[39;49m\u001b[43m)\u001b[49m\u001b[43m \u001b[49m\u001b[38;5;241;43m*\u001b[39;49m\u001b[43m \u001b[49m\u001b[43moffset\u001b[49m\n\u001b[0;32m   2555\u001b[0m \u001b[38;5;28;01mif\u001b[39;00m start \u001b[38;5;129;01mis\u001b[39;00m \u001b[38;5;28;01mNone\u001b[39;00m:\n\u001b[0;32m   2556\u001b[0m     start \u001b[38;5;241m=\u001b[39m end \u001b[38;5;241m-\u001b[39m (periods \u001b[38;5;241m-\u001b[39m \u001b[38;5;241m1\u001b[39m) \u001b[38;5;241m*\u001b[39m offset\n",
      "File \u001b[1;32mC:\\ProgramData\\anaconda3\\lib\\site-packages\\pandas\\_libs\\tslibs\\offsets.pyx:471\u001b[0m, in \u001b[0;36mpandas._libs.tslibs.offsets.BaseOffset.__add__\u001b[1;34m()\u001b[0m\n",
      "File \u001b[1;32mC:\\ProgramData\\anaconda3\\lib\\site-packages\\pandas\\_libs\\tslibs\\offsets.pyx:477\u001b[0m, in \u001b[0;36mpandas._libs.tslibs.offsets.BaseOffset.__add__\u001b[1;34m()\u001b[0m\n",
      "File \u001b[1;32mC:\\ProgramData\\anaconda3\\lib\\site-packages\\pandas\\_libs\\tslibs\\offsets.pyx:167\u001b[0m, in \u001b[0;36mpandas._libs.tslibs.offsets.apply_wraps.wrapper\u001b[1;34m()\u001b[0m\n",
      "File \u001b[1;32mC:\\ProgramData\\anaconda3\\lib\\site-packages\\pandas\\_libs\\tslibs\\offsets.pyx:2459\u001b[0m, in \u001b[0;36mpandas._libs.tslibs.offsets.MonthOffset._apply\u001b[1;34m()\u001b[0m\n",
      "File \u001b[1;32mC:\\ProgramData\\anaconda3\\lib\\site-packages\\pandas\\_libs\\tslibs\\offsets.pyx:4323\u001b[0m, in \u001b[0;36mpandas._libs.tslibs.offsets.shift_month\u001b[1;34m()\u001b[0m\n",
      "File \u001b[1;32mC:\\ProgramData\\anaconda3\\lib\\site-packages\\pandas\\_libs\\tslibs\\timestamps.pyx:2334\u001b[0m, in \u001b[0;36mpandas._libs.tslibs.timestamps.Timestamp.replace\u001b[1;34m()\u001b[0m\n",
      "\u001b[1;31mValueError\u001b[0m: year 11093 is out of range"
     ]
    }
   ],
   "source": [
    "future_prophet = model_prophet.make_future_dataframe(periods = len(test), freq = 'M')\n",
    "forecast_prophet = model_prophet.predict(future_prophet)"
   ]
  },
  {
   "cell_type": "markdown",
   "id": "f074b68a",
   "metadata": {},
   "source": [
    "### Extract the forecast for the test set"
   ]
  },
  {
   "cell_type": "code",
   "execution_count": null,
   "id": "fa4a9ec1",
   "metadata": {},
   "outputs": [],
   "source": [
    "forecast_values_prophet = forecast_prophet['yhat'][-len(test):]"
   ]
  },
  {
   "cell_type": "markdown",
   "id": "a15b3303",
   "metadata": {},
   "source": [
    "### Calculate evaluation metrics"
   ]
  },
  {
   "cell_type": "code",
   "execution_count": null,
   "id": "1a7db8a3",
   "metadata": {},
   "outputs": [],
   "source": [
    "mae = mean_absolute_error(test_prophet['y'], forecast_values_prophet)\n",
    "rmse = np.sqrt(mean_squared_error(test_prophet['y'], forecast_values_prophet))\n",
    "mape = np.mean(np.abs((test_prophet['y'] - forecast_values_prophet) / test_prophet['y'])) * 100"
   ]
  },
  {
   "cell_type": "code",
   "execution_count": null,
   "id": "d11b3e54",
   "metadata": {},
   "outputs": [],
   "source": []
  }
 ],
 "metadata": {
  "kernelspec": {
   "display_name": "Python 3 (ipykernel)",
   "language": "python",
   "name": "python3"
  },
  "language_info": {
   "codemirror_mode": {
    "name": "ipython",
    "version": 3
   },
   "file_extension": ".py",
   "mimetype": "text/x-python",
   "name": "python",
   "nbconvert_exporter": "python",
   "pygments_lexer": "ipython3",
   "version": "3.10.9"
  }
 },
 "nbformat": 4,
 "nbformat_minor": 5
}
